{
 "cells": [
  {
   "cell_type": "code",
   "execution_count": 160,
   "metadata": {},
   "outputs": [],
   "source": [
    "#import all the required libraries\n",
    "import numpy as np\n",
    "import pandas as pd\n",
    "import matplotlib.pyplot as plt\n",
    " \n",
    "from sklearn import metrics\n",
    "from sklearn.linear_model import LogisticRegression\n",
    "from sklearn.model_selection import train_test_split\n",
    "from sklearn.metrics import confusion_matrix \n",
    "#standard scaler import\n",
    "from sklearn.preprocessing import StandardScaler\n",
    "from tensorflow import keras"
   ]
  },
  {
   "cell_type": "code",
   "execution_count": 161,
   "metadata": {},
   "outputs": [
    {
     "name": "stdout",
     "output_type": "stream",
     "text": [
      "['Iris-setosa' 'Iris-versicolor']\n"
     ]
    }
   ],
   "source": [
    "#read csv file\n",
    "df = pd.read_csv(r'C:\\Users\\ASUS\\Desktop\\ML Lab Prac\\ML Lab\\Logistic and Stocastic\\iris-data.csv')\n",
    "\n",
    "#check last column unique values\n",
    "print(df['class'].unique())"
   ]
  },
  {
   "cell_type": "code",
   "execution_count": 162,
   "metadata": {},
   "outputs": [
    {
     "data": {
      "text/plain": [
       "sepal_length_cm    0\n",
       "sepal_width_cm     0\n",
       "petal_length_cm    0\n",
       "petal_width_cm     5\n",
       "class              0\n",
       "dtype: int64"
      ]
     },
     "execution_count": 162,
     "metadata": {},
     "output_type": "execute_result"
    }
   ],
   "source": [
    "#check not null\n",
    "df.isnull().sum()"
   ]
  },
  {
   "cell_type": "code",
   "execution_count": 163,
   "metadata": {},
   "outputs": [
    {
     "data": {
      "text/plain": [
       "sepal_length_cm    0\n",
       "sepal_width_cm     0\n",
       "petal_length_cm    0\n",
       "petal_width_cm     0\n",
       "class              0\n",
       "dtype: int64"
      ]
     },
     "execution_count": 163,
     "metadata": {},
     "output_type": "execute_result"
    }
   ],
   "source": [
    "#handle null values\n",
    "df.dropna(inplace=True)\n",
    "df.isnull().sum()"
   ]
  },
  {
   "cell_type": "code",
   "execution_count": 164,
   "metadata": {},
   "outputs": [
    {
     "data": {
      "text/html": [
       "<div>\n",
       "<style scoped>\n",
       "    .dataframe tbody tr th:only-of-type {\n",
       "        vertical-align: middle;\n",
       "    }\n",
       "\n",
       "    .dataframe tbody tr th {\n",
       "        vertical-align: top;\n",
       "    }\n",
       "\n",
       "    .dataframe thead th {\n",
       "        text-align: right;\n",
       "    }\n",
       "</style>\n",
       "<table border=\"1\" class=\"dataframe\">\n",
       "  <thead>\n",
       "    <tr style=\"text-align: right;\">\n",
       "      <th></th>\n",
       "      <th>sepal_length_cm</th>\n",
       "      <th>sepal_width_cm</th>\n",
       "      <th>petal_length_cm</th>\n",
       "      <th>petal_width_cm</th>\n",
       "      <th>class</th>\n",
       "    </tr>\n",
       "  </thead>\n",
       "  <tbody>\n",
       "    <tr>\n",
       "      <th>95</th>\n",
       "      <td>5.7</td>\n",
       "      <td>3.0</td>\n",
       "      <td>4.2</td>\n",
       "      <td>1.2</td>\n",
       "      <td>1</td>\n",
       "    </tr>\n",
       "    <tr>\n",
       "      <th>96</th>\n",
       "      <td>5.7</td>\n",
       "      <td>2.9</td>\n",
       "      <td>4.2</td>\n",
       "      <td>1.3</td>\n",
       "      <td>1</td>\n",
       "    </tr>\n",
       "    <tr>\n",
       "      <th>97</th>\n",
       "      <td>6.2</td>\n",
       "      <td>2.9</td>\n",
       "      <td>4.3</td>\n",
       "      <td>1.3</td>\n",
       "      <td>1</td>\n",
       "    </tr>\n",
       "    <tr>\n",
       "      <th>98</th>\n",
       "      <td>5.1</td>\n",
       "      <td>2.5</td>\n",
       "      <td>3.0</td>\n",
       "      <td>1.1</td>\n",
       "      <td>1</td>\n",
       "    </tr>\n",
       "    <tr>\n",
       "      <th>99</th>\n",
       "      <td>5.7</td>\n",
       "      <td>2.8</td>\n",
       "      <td>4.1</td>\n",
       "      <td>1.3</td>\n",
       "      <td>1</td>\n",
       "    </tr>\n",
       "  </tbody>\n",
       "</table>\n",
       "</div>"
      ],
      "text/plain": [
       "    sepal_length_cm  sepal_width_cm  petal_length_cm  petal_width_cm  class\n",
       "95              5.7             3.0              4.2             1.2      1\n",
       "96              5.7             2.9              4.2             1.3      1\n",
       "97              6.2             2.9              4.3             1.3      1\n",
       "98              5.1             2.5              3.0             1.1      1\n",
       "99              5.7             2.8              4.1             1.3      1"
      ]
     },
     "execution_count": 164,
     "metadata": {},
     "output_type": "execute_result"
    }
   ],
   "source": [
    "#last column value to integer\n",
    "df['class'] = df['class'].map({'Iris-setosa': 0, 'Iris-versicolor': 1})\n",
    "df.tail()"
   ]
  },
  {
   "cell_type": "code",
   "execution_count": 165,
   "metadata": {},
   "outputs": [
    {
     "name": "stdout",
     "output_type": "stream",
     "text": [
      "(76, 5)\n",
      "(19, 5)\n",
      "(76, 1)\n",
      "(19, 1)\n"
     ]
    }
   ],
   "source": [
    "input = df.drop('class', axis='columns')\n",
    "output = df['class']\n",
    "\n",
    "#Use standard scaler\n",
    "scaler = StandardScaler()\n",
    "input_scaled = scaler.fit_transform(input)\n",
    "\n",
    "#add bias\n",
    "input_scaled = np.append(np.ones((input_scaled.shape[0], 1)), input_scaled, axis=1)\n",
    "\n",
    "#split data\n",
    "X_train, X_test, y_train, y_test = train_test_split(input_scaled, output, test_size=0.2, random_state=0)\n",
    "\n",
    "#show shapes \n",
    "print(X_train.shape)\n",
    "print(X_test.shape)\n",
    "\n",
    "#expand dims\n",
    "y_train = np.expand_dims(y_train, axis=1)\n",
    "y_test = np.expand_dims(y_test, axis=1)\n",
    "\n",
    "print(y_train.shape)\n",
    "print(y_test.shape)\n",
    " \n"
   ]
  },
  {
   "cell_type": "code",
   "execution_count": 166,
   "metadata": {},
   "outputs": [
    {
     "name": "stdout",
     "output_type": "stream",
     "text": [
      "[[ 0.06954322]\n",
      " [ 0.12609992]\n",
      " [-0.91259527]\n",
      " [ 1.26100438]\n",
      " [ 1.24039833]]\n"
     ]
    },
    {
     "data": {
      "image/png": "[encoded data removed]",
      "text/plain": [
       "<Figure size 640x480 with 1 Axes>"
      ]
     },
     "metadata": {},
     "output_type": "display_data"
    }
   ],
   "source": [
    "#Logistic Regression\n",
    "#model function create\n",
    "def sigmoid(z):\n",
    "    return 1 / (1 + np.exp(-z))\n",
    "def yhat(X, W):\n",
    "    return sigmoid(np.dot(X, W))\n",
    "def loss(a, y):\n",
    "    return (-y * np.log(a) - (1 - y) * np.log(1 - a)).mean()\n",
    "def gradient(X, a, y):\n",
    "    return np.dot(X.T, (a - y)) / y.shape[0] #dw = 1/m * X.T * (a-y)\n",
    "def update(W, g, lr):\n",
    "    return W - lr * g\n",
    "def logistic_regression(X, y, lr, epochs):\n",
    "    loss_history = []\n",
    "    W = np.zeros((X.shape[1], 1))\n",
    "    for i in range(epochs):\n",
    "        a = yhat(X, W)\n",
    "        loss_history.append(loss(a, y))\n",
    "        g = gradient(X, a, y)\n",
    "        W = update(W, g, lr)\n",
    "    return W, loss_history\n",
    "\n",
    "#train model\n",
    "W, loss_history = logistic_regression(X_train, y_train, lr=0.1, epochs=100)\n",
    "print(W)\n",
    "#print loss graph \n",
    "plt.plot(loss_history)\n",
    "plt.xlabel(\"Epochs\")\n",
    "plt.ylabel(\"Loss\")\n",
    "plt.show() \n",
    "\n",
    "\n"
   ]
  },
  {
   "cell_type": "code",
   "execution_count": 167,
   "metadata": {},
   "outputs": [],
   "source": [
    "#predict\n",
    "y_pred = yhat(X_test, W)\n",
    "#convert to 0 or 1\n",
    "y_pred = np.where(y_pred >= 0.5, 1, 0)"
   ]
  },
  {
   "cell_type": "code",
   "execution_count": 168,
   "metadata": {},
   "outputs": [
    {
     "name": "stdout",
     "output_type": "stream",
     "text": [
      "Accuracy: 1.0\n",
      "F1 Score: 1.0\n"
     ]
    },
    {
     "data": {
      "text/plain": [
       "array([[ 8,  0],\n",
       "       [ 0, 11]], dtype=int64)"
      ]
     },
     "execution_count": 168,
     "metadata": {},
     "output_type": "execute_result"
    }
   ],
   "source": [
    "#acuracy\n",
    "print(\"Accuracy:\", metrics.accuracy_score(y_test, y_pred))\n",
    "#f1\n",
    "print(\"F1 Score:\", metrics.f1_score(y_test, y_pred))\n",
    "#confusion matrix with labels\n",
    "metrics.confusion_matrix(y_test, y_pred)"
   ]
  }
 ],
 "metadata": {
  "kernelspec": {
   "display_name": "Python 3",
   "language": "python",
   "name": "python3"
  },
  "language_info": {
   "codemirror_mode": {
    "name": "ipython",
    "version": 3
   },
   "file_extension": ".py",
   "mimetype": "text/x-python",
   "name": "python",
   "nbconvert_exporter": "python",
   "pygments_lexer": "ipython3",
   "version": "3.9.13"
  },
  "orig_nbformat": 4
 },
 "nbformat": 4,
 "nbformat_minor": 2
}
